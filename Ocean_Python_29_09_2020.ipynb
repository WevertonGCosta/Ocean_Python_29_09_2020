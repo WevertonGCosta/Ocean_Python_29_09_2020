{
  "nbformat": 4,
  "nbformat_minor": 0,
  "metadata": {
    "colab": {
      "name": "Ocean_Python_29_09_2020.ipynb",
      "provenance": [],
      "collapsed_sections": []
    },
    "kernelspec": {
      "name": "python3",
      "display_name": "Python 3"
    }
  },
  "cells": [
    {
      "cell_type": "code",
      "metadata": {
        "id": "ga15tV973FOS",
        "outputId": "6e5437bf-807e-4313-896b-e8e653e09da7",
        "colab": {
          "base_uri": "https://localhost:8080/",
          "height": 34
        }
      },
      "source": [
        "administrador = True # Boolean - booleano - bool\n",
        "\n",
        "print(administrador)"
      ],
      "execution_count": 2,
      "outputs": [
        {
          "output_type": "stream",
          "text": [
            "True\n"
          ],
          "name": "stdout"
        }
      ]
    },
    {
      "cell_type": "code",
      "metadata": {
        "id": "bYM-ac9_5cf4"
      },
      "source": [
        "# Comparação - Igual\n",
        "\n",
        "comparacao_igual = 1 == 1\n",
        "\n",
        "print(comparacao_igual)\n",
        "\n",
        "print(1 == 1)"
      ],
      "execution_count": 4,
      "outputs": []
    },
    {
      "cell_type": "code",
      "metadata": {
        "id": "4oy1_z6G5uKe",
        "outputId": "9e755c87-2f55-4000-cb02-c4708700438d",
        "colab": {
          "base_uri": "https://localhost:8080/",
          "height": 34
        }
      },
      "source": [
        "# Comparação - Diferente\n",
        "\n",
        "comparacao_diferente = 1 != 1\n",
        "\n",
        "print(comparacao_diferente)"
      ],
      "execution_count": 7,
      "outputs": [
        {
          "output_type": "stream",
          "text": [
            "False\n"
          ],
          "name": "stdout"
        }
      ]
    },
    {
      "cell_type": "code",
      "metadata": {
        "id": "gJkVOgNP58AF",
        "outputId": "6f5cccb7-4fe8-4a45-93b7-98ffee76811a",
        "colab": {
          "base_uri": "https://localhost:8080/",
          "height": 122
        }
      },
      "source": [
        "# Operadores de comparação\n",
        "\n",
        "print(1 == 2) # False\n",
        "print(1 != 2) # True\n",
        "print(1 < 2) # True\n",
        "print(1 > 2) # False\n",
        "print(1 >= 1) # True\n",
        "print(5 <= 5) # True"
      ],
      "execution_count": 10,
      "outputs": [
        {
          "output_type": "stream",
          "text": [
            "False\n",
            "True\n",
            "True\n",
            "False\n",
            "True\n",
            "True\n"
          ],
          "name": "stdout"
        }
      ]
    },
    {
      "cell_type": "code",
      "metadata": {
        "id": "XOkXPMP46bpJ"
      },
      "source": [
        ""
      ],
      "execution_count": null,
      "outputs": []
    },
    {
      "cell_type": "markdown",
      "metadata": {
        "id": "mP0XoCS_6eki"
      },
      "source": [
        "17 < 328: True\n",
        "\n",
        "100 == (2 * 50): True\n",
        "\n",
        "19 <= 19: True\n",
        "\n",
        "-22 >= -18: False\n",
        "\n",
        "99 != (98 + 1): False"
      ]
    },
    {
      "cell_type": "code",
      "metadata": {
        "id": "zzWBhgbY6vlD",
        "outputId": "d0f01bb2-3988-4b27-8781-3ec7e6933998",
        "colab": {
          "base_uri": "https://localhost:8080/",
          "height": 105
        }
      },
      "source": [
        "print(17 < 328)\n",
        "print(100 == (2 * 50))\n",
        "print(19 <= 19)\n",
        "print(-22 >= -18)\n",
        "print(99 != (98 + 1))"
      ],
      "execution_count": 15,
      "outputs": [
        {
          "output_type": "stream",
          "text": [
            "True\n",
            "True\n",
            "True\n",
            "False\n",
            "False\n"
          ],
          "name": "stdout"
        }
      ]
    },
    {
      "cell_type": "code",
      "metadata": {
        "id": "WRa5-nyT7D2P",
        "outputId": "cfee8c19-85b9-4343-9df3-898c36f88731",
        "colab": {
          "base_uri": "https://localhost:8080/",
          "height": 105
        }
      },
      "source": [
        "print((20 - 10) > 15) # False\n",
        "print((10 + 17) == 3 ** 16) # False\n",
        "print(1 ** 2 <= -1) # False\n",
        "print(40 * 4 >= -4) # True\n",
        "print(100 != 10 ** 2) # False"
      ],
      "execution_count": 16,
      "outputs": [
        {
          "output_type": "stream",
          "text": [
            "False\n",
            "False\n",
            "False\n",
            "True\n",
            "False\n"
          ],
          "name": "stdout"
        }
      ]
    },
    {
      "cell_type": "code",
      "metadata": {
        "id": "t0-LE13L7kc1",
        "outputId": "ead96111-6809-4a97-d83e-0ba67c59b610",
        "colab": {
          "base_uri": "https://localhost:8080/",
          "height": 87
        }
      },
      "source": [
        "print(\"Rei\" == \"Rei Arthur\") # False\n",
        "print(\"Rei\" != \"Rei Arthur\") # True\n",
        "print(1 == \"1\") # False, pois o tipo é diferente, um é inteiro e outro é string\n",
        "print(\"1\" == \"1\") # True"
      ],
      "execution_count": 21,
      "outputs": [
        {
          "output_type": "stream",
          "text": [
            "False\n",
            "True\n",
            "False\n",
            "True\n"
          ],
          "name": "stdout"
        }
      ]
    },
    {
      "cell_type": "code",
      "metadata": {
        "id": "ztZl3etD8f8j"
      },
      "source": [
        ""
      ],
      "execution_count": null,
      "outputs": []
    },
    {
      "cell_type": "markdown",
      "metadata": {
        "id": "IPSrY1V38iyF"
      },
      "source": [
        "# Atividade:\n",
        "\n",
        "Agora faremos o contrário. Declare variáveis que o resultado das comparações deve ser:\n",
        "\n",
        "```python\n",
        "True\n",
        "True\n",
        "False\n",
        "True\n",
        "False\n",
        "```"
      ]
    },
    {
      "cell_type": "code",
      "metadata": {
        "id": "550H3-6q8obF",
        "outputId": "935cdaab-6e8e-4a21-f68f-33c91267e694",
        "colab": {
          "base_uri": "https://localhost:8080/",
          "height": 105
        }
      },
      "source": [
        "print(1 == 1)\n",
        "print(2 != 3)\n",
        "print(2 != 2)\n",
        "print(\"p\" == \"p\")\n",
        "print(10 ** 2 == 20)"
      ],
      "execution_count": 24,
      "outputs": [
        {
          "output_type": "stream",
          "text": [
            "True\n",
            "True\n",
            "False\n",
            "True\n",
            "False\n"
          ],
          "name": "stdout"
        }
      ]
    },
    {
      "cell_type": "code",
      "metadata": {
        "id": "g3MDBZj89azP",
        "outputId": "dcce99a2-730a-4d87-d542-e8cc5dc8be39",
        "colab": {
          "base_uri": "https://localhost:8080/",
          "height": 105
        }
      },
      "source": [
        "# Operações de comparação - and - &&\n",
        "\n",
        "# And (&&): Todos os lados precisam ser True para que o resultado seja True\n",
        "# Not (!): Inverte o operador booleano, ou seja, False vira True e True vira False\n",
        "\n",
        "print(True and True) # True\n",
        "print(True and False) # False\n",
        "print(False and False) # False\n",
        "print(not (True and False)) # True\n",
        "print(not True and False) # False"
      ],
      "execution_count": 32,
      "outputs": [
        {
          "output_type": "stream",
          "text": [
            "True\n",
            "False\n",
            "False\n",
            "True\n",
            "False\n"
          ],
          "name": "stdout"
        }
      ]
    }
  ]
}